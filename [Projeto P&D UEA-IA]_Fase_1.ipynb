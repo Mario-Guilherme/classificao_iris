{
 "cells": [
  {
   "cell_type": "code",
   "execution_count": 31,
   "metadata": {},
   "outputs": [],
   "source": [
    "import matplotlib.pyplot as plt\n",
    "import seaborn as sns\n",
    "import pandas as pd\n",
    "from joblib import  load,dump\n",
    "\n",
    "from sklearn.preprocessing import StandardScaler\n",
    "from sklearn.model_selection import train_test_split\n",
    "from sklearn.tree import DecisionTreeClassifier\n",
    "from sklearn.metrics import accuracy_score, classification_report, confusion_matrix\n",
    "\n",
    "\n",
    "%matplotlib inline"
   ]
  },
  {
   "cell_type": "markdown",
   "metadata": {},
   "source": [
    "### LENDO OS DADOS"
   ]
  },
  {
   "cell_type": "code",
   "execution_count": 32,
   "metadata": {},
   "outputs": [
    {
     "data": {
      "text/html": [
       "<div>\n",
       "<style scoped>\n",
       "    .dataframe tbody tr th:only-of-type {\n",
       "        vertical-align: middle;\n",
       "    }\n",
       "\n",
       "    .dataframe tbody tr th {\n",
       "        vertical-align: top;\n",
       "    }\n",
       "\n",
       "    .dataframe thead th {\n",
       "        text-align: right;\n",
       "    }\n",
       "</style>\n",
       "<table border=\"1\" class=\"dataframe\">\n",
       "  <thead>\n",
       "    <tr style=\"text-align: right;\">\n",
       "      <th></th>\n",
       "      <th>5.1</th>\n",
       "      <th>3.5</th>\n",
       "      <th>1.4</th>\n",
       "      <th>0.2</th>\n",
       "      <th>Iris-setosa</th>\n",
       "    </tr>\n",
       "  </thead>\n",
       "  <tbody>\n",
       "    <tr>\n",
       "      <th>0</th>\n",
       "      <td>4.9</td>\n",
       "      <td>3.0</td>\n",
       "      <td>1.4</td>\n",
       "      <td>0.2</td>\n",
       "      <td>Iris-setosa</td>\n",
       "    </tr>\n",
       "    <tr>\n",
       "      <th>1</th>\n",
       "      <td>4.7</td>\n",
       "      <td>3.2</td>\n",
       "      <td>1.3</td>\n",
       "      <td>0.2</td>\n",
       "      <td>Iris-setosa</td>\n",
       "    </tr>\n",
       "    <tr>\n",
       "      <th>2</th>\n",
       "      <td>4.6</td>\n",
       "      <td>3.1</td>\n",
       "      <td>1.5</td>\n",
       "      <td>0.2</td>\n",
       "      <td>Iris-setosa</td>\n",
       "    </tr>\n",
       "    <tr>\n",
       "      <th>3</th>\n",
       "      <td>5.0</td>\n",
       "      <td>3.6</td>\n",
       "      <td>1.4</td>\n",
       "      <td>0.2</td>\n",
       "      <td>Iris-setosa</td>\n",
       "    </tr>\n",
       "    <tr>\n",
       "      <th>4</th>\n",
       "      <td>5.4</td>\n",
       "      <td>3.9</td>\n",
       "      <td>1.7</td>\n",
       "      <td>0.4</td>\n",
       "      <td>Iris-setosa</td>\n",
       "    </tr>\n",
       "  </tbody>\n",
       "</table>\n",
       "</div>"
      ],
      "text/plain": [
       "   5.1  3.5  1.4  0.2  Iris-setosa\n",
       "0  4.9  3.0  1.4  0.2  Iris-setosa\n",
       "1  4.7  3.2  1.3  0.2  Iris-setosa\n",
       "2  4.6  3.1  1.5  0.2  Iris-setosa\n",
       "3  5.0  3.6  1.4  0.2  Iris-setosa\n",
       "4  5.4  3.9  1.7  0.4  Iris-setosa"
      ]
     },
     "execution_count": 32,
     "metadata": {},
     "output_type": "execute_result"
    }
   ],
   "source": [
    "df_iris = pd.read_csv(\"iris.data\",header=0)\n",
    "df_iris.head()"
   ]
  },
  {
   "cell_type": "code",
   "execution_count": 33,
   "metadata": {},
   "outputs": [],
   "source": [
    "### Verificamos que temos alguns problemas nos dados e precisamos tratá-lo."
   ]
  },
  {
   "cell_type": "code",
   "execution_count": 34,
   "metadata": {},
   "outputs": [
    {
     "name": "stdout",
     "output_type": "stream",
     "text": [
      "<class 'pandas.core.frame.DataFrame'>\n",
      "RangeIndex: 149 entries, 0 to 148\n",
      "Data columns (total 5 columns):\n",
      " #   Column       Non-Null Count  Dtype  \n",
      "---  ------       --------------  -----  \n",
      " 0   5.1          149 non-null    float64\n",
      " 1   3.5          149 non-null    float64\n",
      " 2   1.4          149 non-null    float64\n",
      " 3   0.2          149 non-null    float64\n",
      " 4   Iris-setosa  149 non-null    object \n",
      "dtypes: float64(4), object(1)\n",
      "memory usage: 5.9+ KB\n"
     ]
    }
   ],
   "source": [
    "df_iris.info()"
   ]
  },
  {
   "cell_type": "markdown",
   "metadata": {},
   "source": [
    "### Função de Leitura dos dados"
   ]
  },
  {
   "cell_type": "code",
   "execution_count": 35,
   "metadata": {},
   "outputs": [],
   "source": [
    "class DataSource:\n",
    "    \n",
    "    def __init__(self):\n",
    "        self._path_train = \"iris.data\"\n",
    "\n",
    "    def read_data(self):\n",
    "        '''\n",
    "            :return: retorna Pandas DataFrame dos dados lidos \n",
    "\n",
    "        '''\n",
    "        df = pd.read_csv(self._path_train)\n",
    "\n",
    "        return df"
   ]
  },
  {
   "cell_type": "markdown",
   "metadata": {},
   "source": [
    "### Função de tratamento de dados, devido as colunas não vierem nomeadas"
   ]
  },
  {
   "cell_type": "code",
   "execution_count": 36,
   "metadata": {},
   "outputs": [],
   "source": [
    "class DataTreatment:\n",
    "    '''\n",
    "        Classe responsável por tratar os dados.\n",
    "    '''\n",
    "\n",
    "    def __init__(self):\n",
    "        self._columns = ['sepal length', 'sepal width',\n",
    "                         'petal length', 'petal width', 'class']\n",
    "        self._numeric_columns = ['sepal length', 'sepal width',\n",
    "                                 'petal length', 'petal width']\n",
    "    \n",
    "    def data_treatment(self, df):\n",
    "\n",
    "        '''\n",
    "            :parâmetro 'df': Pandas DataFrame\n",
    "            :return: Pandas Dataframe tratado e pronto para processamento\n",
    "\n",
    "        '''\n",
    "\n",
    "        ### Transpondo depois resetando o index para que os dados voltem para linha\n",
    "        df = df.T.reset_index().T.reset_index(drop=True)\n",
    "\n",
    "        ### Segundo a descrição dos dados as colunas têm esses nomes\n",
    "        df.columns = self._columns\n",
    "\n",
    "        ### Transformando os valores das colunas em float\n",
    "        df[self._numeric_columns] = df[self._numeric_columns].astype(float)\n",
    "        \n",
    "        return  df"
   ]
  },
  {
   "cell_type": "markdown",
   "metadata": {},
   "source": [
    "### Função responsável pelo pre-processamento dos dados\n",
    "#### Normalizando os dados e seperando em treino e teste."
   ]
  },
  {
   "cell_type": "code",
   "execution_count": 37,
   "metadata": {},
   "outputs": [],
   "source": [
    "class Preprocessing:\n",
    "\n",
    "    def __init__(self):\n",
    "        self._feature_names = None\n",
    "        self._std_scaler = None\n",
    "        self._train_features = None\n",
    "\n",
    "    def pre_processing(self, df,step_train=True):\n",
    "\n",
    "        '''\n",
    "            pré-processa dados para treinamento do modelo.\n",
    "            :parâmetro df: Pandas DataFrame\n",
    "            :parâmetro step_train: Boolean\n",
    "            :return:  Pandas DataFrame pré-processado\n",
    "        '''\n",
    "        print('Criando DataFrame para  manipulação dado')\n",
    "        cons = pd.DataFrame({'column': df.columns,\n",
    "                            'missing_perc': (df.isna().sum() / df.shape[0]) * 100,\n",
    "                            'dtype': df.dtypes })\n",
    "        \n",
    "        print('criando uma  lista com  features numericas')\n",
    "        features_names = list(cons[cons['dtype'] == 'float']['column'])\n",
    "\n",
    "        print(\"Pegando a target\")\n",
    "        y = df[['class']]\n",
    "\n",
    "        print(\"Normalizando os dados\")\n",
    "        standard_scaler = StandardScaler()\n",
    "        X = df.drop(columns={'class'})\n",
    "        self._feature_names = features_names\n",
    "        self._std_scaler = standard_scaler\n",
    "        X[self._feature_names] = self._std_scaler.fit_transform(X[self._feature_names])\n",
    "        \n",
    "        print(\"Dividindo os dados em 70% treino e 30% test\")\n",
    "        X_train, X_test, y_train, y_test = train_test_split(X, y, test_size=0.30, random_state=0)\n",
    "\n",
    "        if step_train == True:\n",
    "            return (X_train, y_train)\n",
    "        else:\n",
    "            return (X_test, y_test)"
   ]
  },
  {
   "cell_type": "markdown",
   "metadata": {},
   "source": [
    "### Função resposável por treinar o modelo a partir dos dados e gerar um modelo"
   ]
  },
  {
   "cell_type": "code",
   "execution_count": 38,
   "metadata": {},
   "outputs": [],
   "source": [
    "class ModelTtrainning:\n",
    "\n",
    "    def __init__(self):\n",
    "        self._data = DataSource()\n",
    "        self._data_treatment = DataTreatment()\n",
    "        self._preprocessing = Preprocessing()\n",
    "        self._model = DecisionTreeClassifier(criterion='entropy', random_state=0)\n",
    "\n",
    "    def model_trainning(self):\n",
    "        \n",
    "        print(\"Carregando os dados e tratando os dados\")\n",
    "        df = self._data_treatment.data_treatment(self._data.read_data())\n",
    "        \n",
    "        print(\"Preprocessando os dados\")\n",
    "        X_train, y_train = self._preprocessing.pre_processing(df)\n",
    "\n",
    "        print(\"Treinando o modelo\")\n",
    "        self._model.fit(X_train, y_train)\n",
    "\n",
    "        model = {'model_obj' : self._model,\n",
    "                 'preprocessing' : self._preprocessing,\n",
    "                 'colunas' : self._preprocessing._feature_names}\n",
    "        print(model)\n",
    "        dump(model, 'modelo.pkl')\n",
    "\n",
    "        return model    "
   ]
  },
  {
   "cell_type": "markdown",
   "metadata": {},
   "source": [
    "### Função reponsável por retornar as métricas."
   ]
  },
  {
   "cell_type": "code",
   "execution_count": 39,
   "metadata": {},
   "outputs": [],
   "source": [
    "class Metrics:\n",
    "\n",
    "    def __init__(self,y_test, y_predict):\n",
    "        self._y_test = y_test\n",
    "        self._y_predict= y_predict\n",
    "    def accuracy(self):\n",
    "\n",
    "        accuracy = accuracy_score(self._y_test,  self._y_predict)                \n",
    "        \n",
    "        accuracy = pd.DataFrame({'acuracia':[accuracy]})\n",
    "\n",
    "        accuracy.to_csv('acuracia.csv',index=False)\n",
    "        return accuracy\n",
    "\n",
    "    def classification_report(self):\n",
    "        report = classification_report(self._y_test,  self._y_predict, \n",
    "                                                                    target_names = ['Iris-setosa (Class 0)',\n",
    "                                                                                    'Iris-versicolor (Class 1)',\n",
    "                                                                                    'Iris-virginica (Class 2)'],output_dict=True)\n",
    "        report = pd.DataFrame(report)\n",
    "        report.to_csv('metricas.csv',index=False)\n",
    "        return report\n"
   ]
  },
  {
   "cell_type": "markdown",
   "metadata": {},
   "source": [
    "### Função responsável pegar os dados de teste e prever"
   ]
  },
  {
   "cell_type": "code",
   "execution_count": 40,
   "metadata": {},
   "outputs": [],
   "source": [
    "class ModelInference:\n",
    "\n",
    "    def __init__(self):\n",
    "        self._modelo = None\n",
    "        self._data = DataSource()\n",
    "        self._data_treatment = DataTreatment()\n",
    "        self._preprocessing = Preprocessing()\n",
    "\n",
    "    def model_inference(self):\n",
    "        print('carregando o modelo')\n",
    "        self._modelo = load('modelo.pkl')\n",
    "        print('carregando  os dados')\n",
    "        df  =  self._data_treatment.data_treatment(self._data.read_data())\n",
    "        print('processando os dados')\n",
    "        X_test, y_test = self._modelo['preprocessing'].pre_processing(df, step_train=False)\n",
    "        print(X_test.isna().sum())\n",
    "        print('prevendo')\n",
    "        y_predict = self._modelo['model_obj'].predict(X_test)\n",
    "\n",
    "        return y_test, y_predict"
   ]
  },
  {
   "cell_type": "markdown",
   "metadata": {},
   "source": [
    "### Função responsável salvar o gráfico da matriz de confusão"
   ]
  },
  {
   "cell_type": "code",
   "execution_count": 41,
   "metadata": {},
   "outputs": [],
   "source": [
    "class Vizualization:\n",
    "\n",
    "    def __init__(self,y_test, y_predict):\n",
    "        self._y_test  = y_test\n",
    "        self._y_predict = y_predict\n",
    "\n",
    "    def confunsion_matriz(self):\n",
    "        cm = confusion_matrix(self._y_test, self._y_predict)\n",
    "        cm = pd.DataFrame(cm, index = ['0','1','2'] , columns = ['0','1','2'])\n",
    "        label = ['Iris-setosa', 'Iris-versicolor', 'Iris-virginica']\n",
    "        plt.figure(figsize = (10,10))\n",
    "        plot = sns.heatmap(cm, cmap= \"Blues\", linecolor = 'black' , linewidth = 1 , \n",
    "                                                                            annot = True, \n",
    "                                                                            fmt='',xticklabels=label, \n",
    "                                                                            yticklabels=label)\n",
    "        plt.savefig('matriz_de_confusao.png')\n",
    "        return plot"
   ]
  },
  {
   "cell_type": "markdown",
   "metadata": {},
   "source": [
    "# Relatório"
   ]
  },
  {
   "cell_type": "markdown",
   "metadata": {},
   "source": [
    "### Treinando o modelo"
   ]
  },
  {
   "cell_type": "code",
   "execution_count": 42,
   "metadata": {},
   "outputs": [
    {
     "name": "stdout",
     "output_type": "stream",
     "text": [
      "Carregando os dados e tratando os dados\n",
      "Preprocessando os dados\n",
      "Criando DataFrame para  manipulação dado\n",
      "criando uma  lista com  features numericas\n",
      "Pegando a target\n",
      "Normalizando os dados\n",
      "Dividindo os dados em 70% treino e 30% test\n",
      "Treinando o modelo\n",
      "{'model_obj': DecisionTreeClassifier(ccp_alpha=0.0, class_weight=None, criterion='entropy',\n",
      "                       max_depth=None, max_features=None, max_leaf_nodes=None,\n",
      "                       min_impurity_decrease=0.0, min_impurity_split=None,\n",
      "                       min_samples_leaf=1, min_samples_split=2,\n",
      "                       min_weight_fraction_leaf=0.0, presort='deprecated',\n",
      "                       random_state=0, splitter='best'), 'preprocessing': <__main__.Preprocessing object at 0x0000028A3072F1C8>, 'colunas': ['sepal length', 'sepal width', 'petal length', 'petal width']}\n"
     ]
    },
    {
     "data": {
      "text/plain": [
       "{'model_obj': DecisionTreeClassifier(ccp_alpha=0.0, class_weight=None, criterion='entropy',\n",
       "                        max_depth=None, max_features=None, max_leaf_nodes=None,\n",
       "                        min_impurity_decrease=0.0, min_impurity_split=None,\n",
       "                        min_samples_leaf=1, min_samples_split=2,\n",
       "                        min_weight_fraction_leaf=0.0, presort='deprecated',\n",
       "                        random_state=0, splitter='best'),\n",
       " 'preprocessing': <__main__.Preprocessing at 0x28a3072f1c8>,\n",
       " 'colunas': ['sepal length', 'sepal width', 'petal length', 'petal width']}"
      ]
     },
     "execution_count": 42,
     "metadata": {},
     "output_type": "execute_result"
    }
   ],
   "source": [
    "model = ModelTtrainning().model_trainning()\n",
    "model"
   ]
  },
  {
   "cell_type": "markdown",
   "metadata": {},
   "source": [
    "### Adquirindo os dados de teste\n",
    "\n"
   ]
  },
  {
   "cell_type": "code",
   "execution_count": 43,
   "metadata": {},
   "outputs": [
    {
     "name": "stdout",
     "output_type": "stream",
     "text": [
      "carregando o modelo\n",
      "carregando  os dados\n",
      "processando os dados\n",
      "Criando DataFrame para  manipulação dado\n",
      "criando uma  lista com  features numericas\n",
      "Pegando a target\n",
      "Normalizando os dados\n",
      "Dividindo os dados em 70% treino e 30% test\n",
      "sepal length    0\n",
      "sepal width     0\n",
      "petal length    0\n",
      "petal width     0\n",
      "dtype: int64\n",
      "prevendo\n"
     ]
    }
   ],
   "source": [
    "y_test, y_predict = ModelInference().model_inference()"
   ]
  },
  {
   "cell_type": "markdown",
   "metadata": {},
   "source": [
    "### Calculando algumas métricas"
   ]
  },
  {
   "cell_type": "code",
   "execution_count": 44,
   "metadata": {},
   "outputs": [],
   "source": [
    "metrica = Metrics(y_test, y_predict)"
   ]
  },
  {
   "cell_type": "code",
   "execution_count": 45,
   "metadata": {},
   "outputs": [
    {
     "data": {
      "text/html": [
       "<div>\n",
       "<style scoped>\n",
       "    .dataframe tbody tr th:only-of-type {\n",
       "        vertical-align: middle;\n",
       "    }\n",
       "\n",
       "    .dataframe tbody tr th {\n",
       "        vertical-align: top;\n",
       "    }\n",
       "\n",
       "    .dataframe thead th {\n",
       "        text-align: right;\n",
       "    }\n",
       "</style>\n",
       "<table border=\"1\" class=\"dataframe\">\n",
       "  <thead>\n",
       "    <tr style=\"text-align: right;\">\n",
       "      <th></th>\n",
       "      <th>Iris-setosa (Class 0)</th>\n",
       "      <th>Iris-versicolor (Class 1)</th>\n",
       "      <th>Iris-virginica (Class 2)</th>\n",
       "      <th>accuracy</th>\n",
       "      <th>macro avg</th>\n",
       "      <th>weighted avg</th>\n",
       "    </tr>\n",
       "  </thead>\n",
       "  <tbody>\n",
       "    <tr>\n",
       "      <th>precision</th>\n",
       "      <td>1.0</td>\n",
       "      <td>1.000000</td>\n",
       "      <td>0.916667</td>\n",
       "      <td>0.977778</td>\n",
       "      <td>0.972222</td>\n",
       "      <td>0.979630</td>\n",
       "    </tr>\n",
       "    <tr>\n",
       "      <th>recall</th>\n",
       "      <td>1.0</td>\n",
       "      <td>0.944444</td>\n",
       "      <td>1.000000</td>\n",
       "      <td>0.977778</td>\n",
       "      <td>0.981481</td>\n",
       "      <td>0.977778</td>\n",
       "    </tr>\n",
       "    <tr>\n",
       "      <th>f1-score</th>\n",
       "      <td>1.0</td>\n",
       "      <td>0.971429</td>\n",
       "      <td>0.956522</td>\n",
       "      <td>0.977778</td>\n",
       "      <td>0.975983</td>\n",
       "      <td>0.977943</td>\n",
       "    </tr>\n",
       "    <tr>\n",
       "      <th>support</th>\n",
       "      <td>16.0</td>\n",
       "      <td>18.000000</td>\n",
       "      <td>11.000000</td>\n",
       "      <td>0.977778</td>\n",
       "      <td>45.000000</td>\n",
       "      <td>45.000000</td>\n",
       "    </tr>\n",
       "  </tbody>\n",
       "</table>\n",
       "</div>"
      ],
      "text/plain": [
       "           Iris-setosa (Class 0)  Iris-versicolor (Class 1)  \\\n",
       "precision                    1.0                   1.000000   \n",
       "recall                       1.0                   0.944444   \n",
       "f1-score                     1.0                   0.971429   \n",
       "support                     16.0                  18.000000   \n",
       "\n",
       "           Iris-virginica (Class 2)  accuracy  macro avg  weighted avg  \n",
       "precision                  0.916667  0.977778   0.972222      0.979630  \n",
       "recall                     1.000000  0.977778   0.981481      0.977778  \n",
       "f1-score                   0.956522  0.977778   0.975983      0.977943  \n",
       "support                   11.000000  0.977778  45.000000     45.000000  "
      ]
     },
     "execution_count": 45,
     "metadata": {},
     "output_type": "execute_result"
    }
   ],
   "source": [
    "metrica.classification_report()"
   ]
  },
  {
   "cell_type": "markdown",
   "metadata": {},
   "source": [
    "### Acurácia do modelo: aproximadamento 98%"
   ]
  },
  {
   "cell_type": "code",
   "execution_count": 46,
   "metadata": {},
   "outputs": [
    {
     "data": {
      "text/html": [
       "<div>\n",
       "<style scoped>\n",
       "    .dataframe tbody tr th:only-of-type {\n",
       "        vertical-align: middle;\n",
       "    }\n",
       "\n",
       "    .dataframe tbody tr th {\n",
       "        vertical-align: top;\n",
       "    }\n",
       "\n",
       "    .dataframe thead th {\n",
       "        text-align: right;\n",
       "    }\n",
       "</style>\n",
       "<table border=\"1\" class=\"dataframe\">\n",
       "  <thead>\n",
       "    <tr style=\"text-align: right;\">\n",
       "      <th></th>\n",
       "      <th>acuracia</th>\n",
       "    </tr>\n",
       "  </thead>\n",
       "  <tbody>\n",
       "    <tr>\n",
       "      <th>0</th>\n",
       "      <td>0.977778</td>\n",
       "    </tr>\n",
       "  </tbody>\n",
       "</table>\n",
       "</div>"
      ],
      "text/plain": [
       "   acuracia\n",
       "0  0.977778"
      ]
     },
     "execution_count": 46,
     "metadata": {},
     "output_type": "execute_result"
    }
   ],
   "source": [
    "metrica.accuracy()"
   ]
  },
  {
   "cell_type": "code",
   "execution_count": 47,
   "metadata": {},
   "outputs": [],
   "source": [
    "### Plotando a matriz de confusão para saber como o modelo se saiu em classificar"
   ]
  },
  {
   "cell_type": "code",
   "execution_count": 48,
   "metadata": {},
   "outputs": [],
   "source": [
    "grafico = Vizualization(y_test, y_predict)"
   ]
  },
  {
   "cell_type": "code",
   "execution_count": 49,
   "metadata": {},
   "outputs": [
    {
     "data": {
      "image/png": "[encoded data removed]",
      "text/plain": [
       "<Figure size 720x720 with 2 Axes>"
      ]
     },
     "metadata": {
      "needs_background": "light"
     },
     "output_type": "display_data"
    }
   ],
   "source": [
    "grafico.confunsion_matriz();"
   ]
  },
  {
   "cell_type": "code",
   "execution_count": null,
   "metadata": {},
   "outputs": [],
   "source": []
  },
  {
   "cell_type": "code",
   "execution_count": null,
   "metadata": {},
   "outputs": [],
   "source": []
  }
 ],
 "metadata": {
  "kernelspec": {
   "display_name": "Python 3",
   "language": "python",
   "name": "python3"
  },
  "language_info": {
   "codemirror_mode": {
    "name": "ipython",
    "version": 3
   },
   "file_extension": ".py",
   "mimetype": "text/x-python",
   "name": "python",
   "nbconvert_exporter": "python",
   "pygments_lexer": "ipython3",
   "version": "3.7.6"
  }
 },
 "nbformat": 4,
 "nbformat_minor": 4
}
